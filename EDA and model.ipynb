{
 "cells": [
  {
   "cell_type": "markdown",
   "metadata": {
    "colab_type": "text",
    "id": "L4YmRbyPrrhu"
   },
   "source": [
    "**Name: Kichaiahgari Manisha Reddy**\n",
    "\n",
    "**pin no: 221710309027**\n",
    "\n",
    "## **Problem Statement:**\n",
    "\n",
    "To automate the loan approval process (real time) based on customer detail provided while filling online application form.\n",
    "\n",
    "## **Dataset Description:**\n",
    "\n",
    "**Loan_ID:**  Unique Loan ID\n",
    "\n",
    "**Gender:** \tMale/ Female\n",
    "\n",
    "**Married:** \tApplicant married (Y/N)\n",
    "\n",
    "**Dependents:** \tNumber of dependents\n",
    "\n",
    "**Education:**\tApplicant Education (Graduate/ Under Graduate)\n",
    "\n",
    "**Self_Employed:** \tSelf employed (Y/N)\n",
    "\n",
    "**ApplicantIncome:** \tApplicant income\n",
    "\n",
    "**CoapplicantIncome:** \tCoapplicant income\n",
    "\n",
    "**LoanAmount:** \tLoan amount in thousands\n",
    "\n",
    "**Loan_Amount_Term:** \tTerm of loan in months\n",
    "\n",
    "**Credit_History:** \tcredit history meets guidelines\n",
    "\n",
    "**Property_Area:** \tUrban/ Semi Urban/ Rural\n",
    "\n",
    "**Loan_Status:** \tLoan approved (Y/N)"
   ]
  },
  {
   "cell_type": "code",
   "execution_count": null,
   "metadata": {
    "colab": {
     "base_uri": "https://localhost:8080/",
     "height": 51
    },
    "colab_type": "code",
    "id": "RL_iddIT8gzo",
    "outputId": "e66e9b48-3fc1-410a-b3d0-25294e952f04"
   },
   "outputs": [
    {
     "name": "stderr",
     "output_type": "stream",
     "text": [
      "/usr/local/lib/python3.6/dist-packages/statsmodels/tools/_testing.py:19: FutureWarning: pandas.util.testing is deprecated. Use the functions in the public API at pandas.testing instead.\n",
      "  import pandas.util.testing as tm\n"
     ]
    }
   ],
   "source": [
    "#importing packages\n",
    "import pandas as pd\n",
    "import numpy as np\n",
    "import matplotlib.pyplot as plt\n",
    "import seaborn as sns\n",
    "\n",
    "%matplotlib inline "
   ]
  },
  {
   "cell_type": "code",
   "execution_count": null,
   "metadata": {
    "colab": {
     "base_uri": "https://localhost:8080/",
     "height": 68
    },
    "colab_type": "code",
    "id": "TnZ3KqfcVnVp",
    "outputId": "47d75d64-b41e-4585-dc50-7264912c0563"
   },
   "outputs": [
    {
     "name": "stdout",
     "output_type": "stream",
     "text": [
      "Version of pandas package:  1.0.5\n",
      "Version of numpy package:  1.18.5\n",
      "Version of seaborn package:  0.10.1\n"
     ]
    }
   ],
   "source": [
    "#versions of packages used\n",
    "print(\"Version of pandas package: \", pd.__version__)\n",
    "print(\"Version of numpy package: \", np.__version__)\n",
    "print(\"Version of seaborn package: \", sns.__version__)"
   ]
  },
  {
   "cell_type": "code",
   "execution_count": null,
   "metadata": {
    "colab": {
     "base_uri": "https://localhost:8080/",
     "height": 122
    },
    "colab_type": "code",
    "id": "bj6YcTiL8ld1",
    "outputId": "d4310645-3dbf-42e9-9ec2-eed6996c48e3"
   },
   "outputs": [
    {
     "name": "stdout",
     "output_type": "stream",
     "text": [
      "Go to this URL in a browser: https://accounts.google.com/o/oauth2/auth?client_id=947318989803-6bn6qk8qdgf4n4g3pfee6491hc0brc4i.apps.googleusercontent.com&redirect_uri=urn%3aietf%3awg%3aoauth%3a2.0%3aoob&response_type=code&scope=email%20https%3a%2f%2fwww.googleapis.com%2fauth%2fdocs.test%20https%3a%2f%2fwww.googleapis.com%2fauth%2fdrive%20https%3a%2f%2fwww.googleapis.com%2fauth%2fdrive.photos.readonly%20https%3a%2f%2fwww.googleapis.com%2fauth%2fpeopleapi.readonly\n",
      "\n",
      "Enter your authorization code:\n",
      "··········\n",
      "Mounted at /content/gdrive\n"
     ]
    }
   ],
   "source": [
    "from google.colab import drive  # mounting my google drive to colab\n",
    "drive.mount('/content/gdrive')"
   ]
  },
  {
   "cell_type": "code",
   "execution_count": null,
   "metadata": {
    "colab": {
     "base_uri": "https://localhost:8080/",
     "height": 204
    },
    "colab_type": "code",
    "id": "3_iOLRNx8otP",
    "outputId": "0b10327e-30c3-4c5f-8b23-77c4807c3b05"
   },
   "outputs": [
    {
     "data": {
      "text/html": [
       "<div>\n",
       "<style scoped>\n",
       "    .dataframe tbody tr th:only-of-type {\n",
       "        vertical-align: middle;\n",
       "    }\n",
       "\n",
       "    .dataframe tbody tr th {\n",
       "        vertical-align: top;\n",
       "    }\n",
       "\n",
       "    .dataframe thead th {\n",
       "        text-align: right;\n",
       "    }\n",
       "</style>\n",
       "<table border=\"1\" class=\"dataframe\">\n",
       "  <thead>\n",
       "    <tr style=\"text-align: right;\">\n",
       "      <th></th>\n",
       "      <th>Loan_ID</th>\n",
       "      <th>Gender</th>\n",
       "      <th>Married</th>\n",
       "      <th>Dependents</th>\n",
       "      <th>Education</th>\n",
       "      <th>Self_Employed</th>\n",
       "      <th>ApplicantIncome</th>\n",
       "      <th>CoapplicantIncome</th>\n",
       "      <th>LoanAmount</th>\n",
       "      <th>Loan_Amount_Term</th>\n",
       "      <th>Credit_History</th>\n",
       "      <th>Property_Area</th>\n",
       "      <th>Loan_Status</th>\n",
       "    </tr>\n",
       "  </thead>\n",
       "  <tbody>\n",
       "    <tr>\n",
       "      <th>0</th>\n",
       "      <td>LP001002</td>\n",
       "      <td>Male</td>\n",
       "      <td>No</td>\n",
       "      <td>0</td>\n",
       "      <td>Graduate</td>\n",
       "      <td>No</td>\n",
       "      <td>5849</td>\n",
       "      <td>0.0</td>\n",
       "      <td>NaN</td>\n",
       "      <td>360.0</td>\n",
       "      <td>1.0</td>\n",
       "      <td>Urban</td>\n",
       "      <td>Y</td>\n",
       "    </tr>\n",
       "    <tr>\n",
       "      <th>1</th>\n",
       "      <td>LP001003</td>\n",
       "      <td>Male</td>\n",
       "      <td>Yes</td>\n",
       "      <td>1</td>\n",
       "      <td>Graduate</td>\n",
       "      <td>No</td>\n",
       "      <td>4583</td>\n",
       "      <td>1508.0</td>\n",
       "      <td>128.0</td>\n",
       "      <td>360.0</td>\n",
       "      <td>1.0</td>\n",
       "      <td>Rural</td>\n",
       "      <td>N</td>\n",
       "    </tr>\n",
       "    <tr>\n",
       "      <th>2</th>\n",
       "      <td>LP001005</td>\n",
       "      <td>Male</td>\n",
       "      <td>Yes</td>\n",
       "      <td>0</td>\n",
       "      <td>Graduate</td>\n",
       "      <td>Yes</td>\n",
       "      <td>3000</td>\n",
       "      <td>0.0</td>\n",
       "      <td>66.0</td>\n",
       "      <td>360.0</td>\n",
       "      <td>1.0</td>\n",
       "      <td>Urban</td>\n",
       "      <td>Y</td>\n",
       "    </tr>\n",
       "    <tr>\n",
       "      <th>3</th>\n",
       "      <td>LP001006</td>\n",
       "      <td>Male</td>\n",
       "      <td>Yes</td>\n",
       "      <td>0</td>\n",
       "      <td>Not Graduate</td>\n",
       "      <td>No</td>\n",
       "      <td>2583</td>\n",
       "      <td>2358.0</td>\n",
       "      <td>120.0</td>\n",
       "      <td>360.0</td>\n",
       "      <td>1.0</td>\n",
       "      <td>Urban</td>\n",
       "      <td>Y</td>\n",
       "    </tr>\n",
       "    <tr>\n",
       "      <th>4</th>\n",
       "      <td>LP001008</td>\n",
       "      <td>Male</td>\n",
       "      <td>No</td>\n",
       "      <td>0</td>\n",
       "      <td>Graduate</td>\n",
       "      <td>No</td>\n",
       "      <td>6000</td>\n",
       "      <td>0.0</td>\n",
       "      <td>141.0</td>\n",
       "      <td>360.0</td>\n",
       "      <td>1.0</td>\n",
       "      <td>Urban</td>\n",
       "      <td>Y</td>\n",
       "    </tr>\n",
       "  </tbody>\n",
       "</table>\n",
       "</div>"
      ],
      "text/plain": [
       "    Loan_ID Gender Married  ... Credit_History Property_Area Loan_Status\n",
       "0  LP001002   Male      No  ...            1.0         Urban           Y\n",
       "1  LP001003   Male     Yes  ...            1.0         Rural           N\n",
       "2  LP001005   Male     Yes  ...            1.0         Urban           Y\n",
       "3  LP001006   Male     Yes  ...            1.0         Urban           Y\n",
       "4  LP001008   Male      No  ...            1.0         Urban           Y\n",
       "\n",
       "[5 rows x 13 columns]"
      ]
     },
     "execution_count": 4,
     "metadata": {
      "tags": []
     },
     "output_type": "execute_result"
    }
   ],
   "source": [
    "df = pd.read_csv('/content/gdrive/My Drive/2020/courses taken/ds/resources/loan.csv') #reading my csv file\n",
    "df.head()"
   ]
  },
  {
   "cell_type": "code",
   "execution_count": null,
   "metadata": {
    "colab": {
     "base_uri": "https://localhost:8080/",
     "height": 255
    },
    "colab_type": "code",
    "id": "v5hxLWOgh8dr",
    "outputId": "743f74b1-302d-451f-d67f-266d370e1213"
   },
   "outputs": [
    {
     "data": {
      "text/plain": [
       "Loan_ID               0\n",
       "Gender               13\n",
       "Married               3\n",
       "Dependents           15\n",
       "Education             0\n",
       "Self_Employed        32\n",
       "ApplicantIncome       0\n",
       "CoapplicantIncome     0\n",
       "LoanAmount           22\n",
       "Loan_Amount_Term     14\n",
       "Credit_History       50\n",
       "Property_Area         0\n",
       "Loan_Status           0\n",
       "dtype: int64"
      ]
     },
     "execution_count": 5,
     "metadata": {
      "tags": []
     },
     "output_type": "execute_result"
    }
   ],
   "source": [
    "#finding number of null values in the dataset\n",
    "df.isnull().sum()"
   ]
  },
  {
   "cell_type": "code",
   "execution_count": null,
   "metadata": {
    "colab": {
     "base_uri": "https://localhost:8080/",
     "height": 297
    },
    "colab_type": "code",
    "id": "knitQyNih1R1",
    "outputId": "d3b2d294-42b5-445d-db13-d08fd192ad71"
   },
   "outputs": [
    {
     "data": {
      "text/html": [
       "<div>\n",
       "<style scoped>\n",
       "    .dataframe tbody tr th:only-of-type {\n",
       "        vertical-align: middle;\n",
       "    }\n",
       "\n",
       "    .dataframe tbody tr th {\n",
       "        vertical-align: top;\n",
       "    }\n",
       "\n",
       "    .dataframe thead th {\n",
       "        text-align: right;\n",
       "    }\n",
       "</style>\n",
       "<table border=\"1\" class=\"dataframe\">\n",
       "  <thead>\n",
       "    <tr style=\"text-align: right;\">\n",
       "      <th></th>\n",
       "      <th>ApplicantIncome</th>\n",
       "      <th>CoapplicantIncome</th>\n",
       "      <th>LoanAmount</th>\n",
       "      <th>Loan_Amount_Term</th>\n",
       "      <th>Credit_History</th>\n",
       "    </tr>\n",
       "  </thead>\n",
       "  <tbody>\n",
       "    <tr>\n",
       "      <th>count</th>\n",
       "      <td>614.000000</td>\n",
       "      <td>614.000000</td>\n",
       "      <td>592.000000</td>\n",
       "      <td>600.00000</td>\n",
       "      <td>564.000000</td>\n",
       "    </tr>\n",
       "    <tr>\n",
       "      <th>mean</th>\n",
       "      <td>5403.459283</td>\n",
       "      <td>1621.245798</td>\n",
       "      <td>146.412162</td>\n",
       "      <td>342.00000</td>\n",
       "      <td>0.842199</td>\n",
       "    </tr>\n",
       "    <tr>\n",
       "      <th>std</th>\n",
       "      <td>6109.041673</td>\n",
       "      <td>2926.248369</td>\n",
       "      <td>85.587325</td>\n",
       "      <td>65.12041</td>\n",
       "      <td>0.364878</td>\n",
       "    </tr>\n",
       "    <tr>\n",
       "      <th>min</th>\n",
       "      <td>150.000000</td>\n",
       "      <td>0.000000</td>\n",
       "      <td>9.000000</td>\n",
       "      <td>12.00000</td>\n",
       "      <td>0.000000</td>\n",
       "    </tr>\n",
       "    <tr>\n",
       "      <th>25%</th>\n",
       "      <td>2877.500000</td>\n",
       "      <td>0.000000</td>\n",
       "      <td>100.000000</td>\n",
       "      <td>360.00000</td>\n",
       "      <td>1.000000</td>\n",
       "    </tr>\n",
       "    <tr>\n",
       "      <th>50%</th>\n",
       "      <td>3812.500000</td>\n",
       "      <td>1188.500000</td>\n",
       "      <td>128.000000</td>\n",
       "      <td>360.00000</td>\n",
       "      <td>1.000000</td>\n",
       "    </tr>\n",
       "    <tr>\n",
       "      <th>75%</th>\n",
       "      <td>5795.000000</td>\n",
       "      <td>2297.250000</td>\n",
       "      <td>168.000000</td>\n",
       "      <td>360.00000</td>\n",
       "      <td>1.000000</td>\n",
       "    </tr>\n",
       "    <tr>\n",
       "      <th>max</th>\n",
       "      <td>81000.000000</td>\n",
       "      <td>41667.000000</td>\n",
       "      <td>700.000000</td>\n",
       "      <td>480.00000</td>\n",
       "      <td>1.000000</td>\n",
       "    </tr>\n",
       "  </tbody>\n",
       "</table>\n",
       "</div>"
      ],
      "text/plain": [
       "       ApplicantIncome  CoapplicantIncome  ...  Loan_Amount_Term  Credit_History\n",
       "count       614.000000         614.000000  ...         600.00000      564.000000\n",
       "mean       5403.459283        1621.245798  ...         342.00000        0.842199\n",
       "std        6109.041673        2926.248369  ...          65.12041        0.364878\n",
       "min         150.000000           0.000000  ...          12.00000        0.000000\n",
       "25%        2877.500000           0.000000  ...         360.00000        1.000000\n",
       "50%        3812.500000        1188.500000  ...         360.00000        1.000000\n",
       "75%        5795.000000        2297.250000  ...         360.00000        1.000000\n",
       "max       81000.000000       41667.000000  ...         480.00000        1.000000\n",
       "\n",
       "[8 rows x 5 columns]"
      ]
     },
     "execution_count": 6,
     "metadata": {
      "tags": []
     },
     "output_type": "execute_result"
    }
   ],
   "source": [
    "# describing the numerical column values with count,mean,std,min,max etc.,\n",
    "df.describe()"
   ]
  },
  {
   "cell_type": "markdown",
   "metadata": {
    "colab_type": "text",
    "id": "LRF52nJ9hDDk"
   },
   "source": [
    "## DATA VISUALIZATION\n"
   ]
  },
  {
   "cell_type": "code",
   "execution_count": null,
   "metadata": {
    "colab": {
     "base_uri": "https://localhost:8080/",
     "height": 592
    },
    "colab_type": "code",
    "id": "_bKeLOIS29pr",
    "outputId": "32fc9690-3ace-4b3d-bd78-7c8c247e2b4c"
   },
   "outputs": [
    {
     "data": {
      "image/png": "[encoded data removed]",
      "text/plain": [
       "<Figure size 936x720 with 6 Axes>"
      ]
     },
     "metadata": {
      "needs_background": "light",
      "tags": []
     },
     "output_type": "display_data"
    }
   ],
   "source": [
    "#VIsualizing the count of categorical columns in one plot using subplot()\n",
    "cols = ['Gender','Married','Education','Self_Employed','Credit_History','Property_Area']\n",
    "i=0\n",
    "j=0\n",
    "k=0\n",
    "fig, ax = plt.subplots(3,2, figsize = (13,10))\n",
    "for i in range(3):\n",
    "  for j in range(2):\n",
    "    df[cols[k]].hist(ax=ax[i][j])\n",
    "    k=k+1"
   ]
  },
  {
   "cell_type": "markdown",
   "metadata": {
    "colab_type": "text",
    "id": "TatgcX0NADr7"
   },
   "source": [
    "**The graph below reveals that the loan is granted more to the male population than to the female population.**\n"
   ]
  },
  {
   "cell_type": "code",
   "execution_count": null,
   "metadata": {
    "colab": {
     "base_uri": "https://localhost:8080/",
     "height": 313
    },
    "colab_type": "code",
    "id": "mgu2Rh-q8r4H",
    "outputId": "1b590da4-474d-4a14-84a9-4517add59dcb"
   },
   "outputs": [
    {
     "data": {
      "text/plain": [
       "<matplotlib.axes._subplots.AxesSubplot at 0x7fe56815af28>"
      ]
     },
     "execution_count": 9,
     "metadata": {
      "tags": []
     },
     "output_type": "execute_result"
    },
    {
     "data": {
      "image/png": "[encoded data removed]",
      "text/plain": [
       "<Figure size 432x288 with 1 Axes>"
      ]
     },
     "metadata": {
      "needs_background": "light",
      "tags": []
     },
     "output_type": "display_data"
    }
   ],
   "source": [
    "# count plot with respect to target column\n",
    "plt.title(\"Gender with respect to loan status\")\n",
    "sns.countplot(df['Gender'],hue = df['Loan_Status'])"
   ]
  },
  {
   "cell_type": "markdown",
   "metadata": {
    "colab_type": "text",
    "id": "Fb98WKHnA6zu"
   },
   "source": [
    "**The graph below reveals that the loan is granted more to the Married population than to the Bachelors population.**\n"
   ]
  },
  {
   "cell_type": "code",
   "execution_count": null,
   "metadata": {
    "colab": {
     "base_uri": "https://localhost:8080/",
     "height": 313
    },
    "colab_type": "code",
    "id": "K9ssnDaL8rzB",
    "outputId": "aaada828-2ed2-4f9b-dc6b-02ebfdd3bae6"
   },
   "outputs": [
    {
     "data": {
      "text/plain": [
       "<matplotlib.axes._subplots.AxesSubplot at 0x7fe567c6b908>"
      ]
     },
     "execution_count": 10,
     "metadata": {
      "tags": []
     },
     "output_type": "execute_result"
    },
    {
     "data": {
      "image/png": "[encoded data removed]",
      "text/plain": [
       "<Figure size 432x288 with 1 Axes>"
      ]
     },
     "metadata": {
      "needs_background": "light",
      "tags": []
     },
     "output_type": "display_data"
    }
   ],
   "source": [
    "# count plot with respect to target column\n",
    "plt.title(\"Marital Status with respect to loan status\")\n",
    "sns.countplot(df['Married'],hue = df['Loan_Status'])"
   ]
  },
  {
   "cell_type": "markdown",
   "metadata": {
    "colab_type": "text",
    "id": "JfgUIw5IBPUD"
   },
   "source": [
    "**The graph below shows the loan is given more to the population of Semi Urban (or Towns) than to the rest of the population.**\n"
   ]
  },
  {
   "cell_type": "code",
   "execution_count": null,
   "metadata": {
    "colab": {
     "base_uri": "https://localhost:8080/",
     "height": 314
    },
    "colab_type": "code",
    "id": "2S1Avnz_8rtj",
    "outputId": "9bf81052-0228-4364-878b-8f908977e592"
   },
   "outputs": [
    {
     "data": {
      "text/plain": [
       "<matplotlib.axes._subplots.AxesSubplot at 0x7fe567c8b5f8>"
      ]
     },
     "execution_count": 11,
     "metadata": {
      "tags": []
     },
     "output_type": "execute_result"
    },
    {
     "data": {
      "image/png": "[encoded data removed]",
      "text/plain": [
       "<Figure size 432x288 with 1 Axes>"
      ]
     },
     "metadata": {
      "needs_background": "light",
      "tags": []
     },
     "output_type": "display_data"
    }
   ],
   "source": [
    "# count plot with respect to target column\n",
    "plt.title(\"Property Area with respect to loan status\")\n",
    "sns.countplot(df['Property_Area'],hue = df['Loan_Status'])"
   ]
  },
  {
   "cell_type": "markdown",
   "metadata": {
    "colab_type": "text",
    "id": "ulG6D1WvBq6h"
   },
   "source": [
    "**The graph below shows the loan is given more to the applicants with zero dependents than to the rest of the population.**"
   ]
  },
  {
   "cell_type": "code",
   "execution_count": null,
   "metadata": {
    "colab": {
     "base_uri": "https://localhost:8080/",
     "height": 313
    },
    "colab_type": "code",
    "id": "oTVmbaYB8raQ",
    "outputId": "575a4220-d28b-4de2-d42c-c05f9a37432a"
   },
   "outputs": [
    {
     "data": {
      "text/plain": [
       "<matplotlib.axes._subplots.AxesSubplot at 0x7fe567bd6ba8>"
      ]
     },
     "execution_count": 12,
     "metadata": {
      "tags": []
     },
     "output_type": "execute_result"
    },
    {
     "data": {
      "image/png": "[encoded data removed]",
      "text/plain": [
       "<Figure size 432x288 with 1 Axes>"
      ]
     },
     "metadata": {
      "needs_background": "light",
      "tags": []
     },
     "output_type": "display_data"
    }
   ],
   "source": [
    "# count plot with respect to target column\n",
    "plt.title(\"Dependents with respect to loan status\")\n",
    "sns.countplot(df['Dependents'],hue = df['Loan_Status'])"
   ]
  },
  {
   "cell_type": "markdown",
   "metadata": {
    "colab_type": "text",
    "id": "VeUbTh3LB5QH"
   },
   "source": [
    "**The graph below shows the loan is given more to the Applicants who are not self employed than to the rest of the Applicants.**"
   ]
  },
  {
   "cell_type": "code",
   "execution_count": null,
   "metadata": {
    "colab": {
     "base_uri": "https://localhost:8080/",
     "height": 314
    },
    "colab_type": "code",
    "id": "wi1QQ7uN87qs",
    "outputId": "067a605c-462a-4901-b3bb-445a878544e4"
   },
   "outputs": [
    {
     "data": {
      "text/plain": [
       "<matplotlib.axes._subplots.AxesSubplot at 0x7fe567b6a748>"
      ]
     },
     "execution_count": 13,
     "metadata": {
      "tags": []
     },
     "output_type": "execute_result"
    },
    {
     "data": {
      "image/png": "[encoded data removed]",
      "text/plain": [
       "<Figure size 432x288 with 1 Axes>"
      ]
     },
     "metadata": {
      "needs_background": "light",
      "tags": []
     },
     "output_type": "display_data"
    }
   ],
   "source": [
    "# count plot with respect to target column\n",
    "plt.title(\"Self employed with respect to loan status\")\n",
    "sns.countplot(df['Self_Employed'],hue = df['Loan_Status'])"
   ]
  },
  {
   "cell_type": "code",
   "execution_count": null,
   "metadata": {
    "colab": {},
    "colab_type": "code",
    "id": "xaxY0Gvt8xEY"
   },
   "outputs": [],
   "source": [
    "# We have replaced missing values of Gender column with mode of Gender column\n",
    "df.Gender = df.Gender.fillna(df.Gender.mode)\n",
    "# We have replaced Male:1 and Female:0\n",
    "x = df.Gender\n",
    "x = np.array(x)\n",
    "l1 = []\n",
    "for i in x:\n",
    "  if i == 'Male':\n",
    "    l1.append(1)\n",
    "  else:\n",
    "    l1.append(0)\n",
    "l1=np.array(l1)\n",
    "df.Gender = l1\n",
    "\n",
    "# We have replaced missing values of Married column with mode of Married column\n",
    "df.Married = df.Married.fillna(df.Married.mode)\n",
    "# We have replaced Yes: 1 and No: 0\n",
    "x1 = np.array(df.Married)\n",
    "l2 = []\n",
    "for i in x1:\n",
    "  if i == 'Yes':\n",
    "    l2.append(1)\n",
    "  else:\n",
    "    l2.append(0)\n",
    "l2 = np.array(l2)\n",
    "df.Married = l2\n",
    "\n",
    "# We have replaced missing values of Dependents column with mode of Dependents column\n",
    "df.Dependents = df.Dependents.fillna(df.Dependents.mode)\n",
    "# We replaced 0 : 0 / 1: 1 / 2: 2 / 3+: 3\n",
    "x1 = np.array(df.Dependents)\n",
    "l2 = []\n",
    "for i in x1:\n",
    "  if i == '3+':\n",
    "    l2.append(3)\n",
    "  elif i == '0':\n",
    "    l2.append(0)\n",
    "  elif i == '1':\n",
    "    l2.append(1)\n",
    "  else:\n",
    "    l2.append(2)\n",
    "l2 = np.array(l2)\n",
    "df.Dependents = l2\n",
    "\n",
    "# We replaced Graduate: 1 and not Graduate: 0\n",
    "x1 = np.array(df.Education)\n",
    "l2 = []\n",
    "for i in x1:\n",
    "  if i == 'Graduate':\n",
    "    l2.append(1)\n",
    "  else:\n",
    "    l2.append(0)\n",
    "l2 = np.array(l2)\n",
    "df.Education = l2\n",
    "\n",
    "# We have replaced missing values of Self_Employed column with mode of Self_Employed column\n",
    "df.Self_Employed = df.Self_Employed.fillna(df.Self_Employed.mode)\n",
    "# We replaced Yes: 1 and No: 0\n",
    "x1 = np.array(df.Self_Employed)\n",
    "l2 = []\n",
    "for i in x1:\n",
    "  if i == 'Yes':\n",
    "    l2.append(1)\n",
    "  else:\n",
    "    l2.append(0)\n",
    "l2 = np.array(l2)\n",
    "df.Self_Employed = l2"
   ]
  },
  {
   "cell_type": "code",
   "execution_count": null,
   "metadata": {
    "colab": {},
    "colab_type": "code",
    "id": "2kFzmc-M9YUI"
   },
   "outputs": [],
   "source": [
    "# We have replaced missing values of LoanAmount, Loan_Amount_Term column with mean of LoanAmount, Loan_Amount_Term column respectively\n",
    "df.LoanAmount = df.LoanAmount.fillna(df.LoanAmount.mean())\n",
    "\n",
    "df.Loan_Amount_Term = df.Loan_Amount_Term.fillna(df.Loan_Amount_Term.mean())\n",
    "\n",
    "# Replaced null values of Credit_history with its mode value(i.e., 1)\n",
    "df.Credit_History = df.Credit_History.fillna(1)\n",
    "\n",
    "# Mapped Rural:0 / Semiurban:1 / Urban: 2 in property area column\n",
    "x1 = np.array(df.Property_Area)\n",
    "l2 = []\n",
    "for i in x1:\n",
    "  if i == 'Rural':\n",
    "    l2.append(0)\n",
    "  elif i == 'Semiurban':\n",
    "    l2.append(1)\n",
    "  else:\n",
    "    l2.append(2)\n",
    "l2 = np.array(l2)\n",
    "df.Property_Area = l2\n",
    "\n",
    "#mapped Yes:1 and No:0 in target column\n",
    "x1 = np.array(df.Loan_Status)\n",
    "l2 = []\n",
    "for i in x1:\n",
    "  if i == 'Y':\n",
    "    l2.append(1)\n",
    "  else:\n",
    "    l2.append(0)\n",
    "l2 = np.array(l2)\n",
    "df.Loan_Status = l2"
   ]
  },
  {
   "cell_type": "markdown",
   "metadata": {
    "colab_type": "text",
    "id": "h8_pOvRfCp7f"
   },
   "source": [
    "**After the analysis of the categorical and numerical data it is observed that loan status mostly depends on categorical data than on neumerical data**"
   ]
  },
  {
   "cell_type": "code",
   "execution_count": null,
   "metadata": {
    "colab": {
     "base_uri": "https://localhost:8080/",
     "height": 226
    },
    "colab_type": "code",
    "id": "1EKturBb9u7O",
    "outputId": "0744f7d4-2aae-47d5-b5a8-3eba56f3e9ed"
   },
   "outputs": [
    {
     "data": {
      "text/html": [
       "<div>\n",
       "<style scoped>\n",
       "    .dataframe tbody tr th:only-of-type {\n",
       "        vertical-align: middle;\n",
       "    }\n",
       "\n",
       "    .dataframe tbody tr th {\n",
       "        vertical-align: top;\n",
       "    }\n",
       "\n",
       "    .dataframe thead th {\n",
       "        text-align: right;\n",
       "    }\n",
       "</style>\n",
       "<table border=\"1\" class=\"dataframe\">\n",
       "  <thead>\n",
       "    <tr style=\"text-align: right;\">\n",
       "      <th></th>\n",
       "      <th>Gender</th>\n",
       "      <th>Married</th>\n",
       "      <th>Dependents</th>\n",
       "      <th>Education</th>\n",
       "      <th>Self_Employed</th>\n",
       "      <th>ApplicantIncome</th>\n",
       "      <th>CoapplicantIncome</th>\n",
       "      <th>LoanAmount</th>\n",
       "      <th>Loan_Amount_Term</th>\n",
       "      <th>Credit_History</th>\n",
       "      <th>Property_Area</th>\n",
       "      <th>Loan_Status</th>\n",
       "    </tr>\n",
       "  </thead>\n",
       "  <tbody>\n",
       "    <tr>\n",
       "      <th>0</th>\n",
       "      <td>1</td>\n",
       "      <td>0</td>\n",
       "      <td>0</td>\n",
       "      <td>1</td>\n",
       "      <td>0</td>\n",
       "      <td>5849</td>\n",
       "      <td>0.0</td>\n",
       "      <td>146.412162</td>\n",
       "      <td>360.0</td>\n",
       "      <td>1.0</td>\n",
       "      <td>2</td>\n",
       "      <td>1</td>\n",
       "    </tr>\n",
       "    <tr>\n",
       "      <th>1</th>\n",
       "      <td>1</td>\n",
       "      <td>1</td>\n",
       "      <td>1</td>\n",
       "      <td>1</td>\n",
       "      <td>0</td>\n",
       "      <td>4583</td>\n",
       "      <td>1508.0</td>\n",
       "      <td>128.000000</td>\n",
       "      <td>360.0</td>\n",
       "      <td>1.0</td>\n",
       "      <td>0</td>\n",
       "      <td>0</td>\n",
       "    </tr>\n",
       "    <tr>\n",
       "      <th>2</th>\n",
       "      <td>1</td>\n",
       "      <td>1</td>\n",
       "      <td>0</td>\n",
       "      <td>1</td>\n",
       "      <td>1</td>\n",
       "      <td>3000</td>\n",
       "      <td>0.0</td>\n",
       "      <td>66.000000</td>\n",
       "      <td>360.0</td>\n",
       "      <td>1.0</td>\n",
       "      <td>2</td>\n",
       "      <td>1</td>\n",
       "    </tr>\n",
       "    <tr>\n",
       "      <th>3</th>\n",
       "      <td>1</td>\n",
       "      <td>1</td>\n",
       "      <td>0</td>\n",
       "      <td>0</td>\n",
       "      <td>0</td>\n",
       "      <td>2583</td>\n",
       "      <td>2358.0</td>\n",
       "      <td>120.000000</td>\n",
       "      <td>360.0</td>\n",
       "      <td>1.0</td>\n",
       "      <td>2</td>\n",
       "      <td>1</td>\n",
       "    </tr>\n",
       "    <tr>\n",
       "      <th>4</th>\n",
       "      <td>1</td>\n",
       "      <td>0</td>\n",
       "      <td>0</td>\n",
       "      <td>1</td>\n",
       "      <td>0</td>\n",
       "      <td>6000</td>\n",
       "      <td>0.0</td>\n",
       "      <td>141.000000</td>\n",
       "      <td>360.0</td>\n",
       "      <td>1.0</td>\n",
       "      <td>2</td>\n",
       "      <td>1</td>\n",
       "    </tr>\n",
       "  </tbody>\n",
       "</table>\n",
       "</div>"
      ],
      "text/plain": [
       "   Gender  Married  Dependents  ...  Credit_History  Property_Area  Loan_Status\n",
       "0       1        0           0  ...             1.0              2            1\n",
       "1       1        1           1  ...             1.0              0            0\n",
       "2       1        1           0  ...             1.0              2            1\n",
       "3       1        1           0  ...             1.0              2            1\n",
       "4       1        0           0  ...             1.0              2            1\n",
       "\n",
       "[5 rows x 12 columns]"
      ]
     },
     "execution_count": 16,
     "metadata": {
      "tags": []
     },
     "output_type": "execute_result"
    }
   ],
   "source": [
    "df=df.drop(columns='Loan_ID',axis=1)\n",
    "df.head(5)"
   ]
  },
  {
   "cell_type": "code",
   "execution_count": null,
   "metadata": {
    "colab": {},
    "colab_type": "code",
    "id": "Pc5pAN7J9x2c"
   },
   "outputs": [],
   "source": [
    "# dummies for Property_Area Column\n",
    "df_final = pd.concat([df, pd.get_dummies(df['Property_Area'], drop_first=True, prefix='Area')], axis=1)\n",
    "df_final = df_final.drop(columns='Property_Area',axis=1)"
   ]
  },
  {
   "cell_type": "code",
   "execution_count": null,
   "metadata": {
    "colab": {},
    "colab_type": "code",
    "id": "TzN0KVhs9_bI"
   },
   "outputs": [],
   "source": [
    "df_final = df_final.drop(columns='Loan_Status',axis=1)"
   ]
  },
  {
   "cell_type": "code",
   "execution_count": null,
   "metadata": {
    "colab": {},
    "colab_type": "code",
    "id": "XBXZwtqSAE3L"
   },
   "outputs": [],
   "source": [
    "# Dummies fro depentents Column\n",
    "df_final = pd.concat([df_final, pd.get_dummies(df['Dependents'], drop_first=True, prefix='Dept')], axis=1)\n",
    "df_final = df_final.drop(columns='Dependents',axis=1)"
   ]
  },
  {
   "cell_type": "code",
   "execution_count": null,
   "metadata": {
    "colab": {
     "base_uri": "https://localhost:8080/",
     "height": 35
    },
    "colab_type": "code",
    "id": "Q3mCjDYAAgc6",
    "outputId": "e65d231a-bf0b-45b5-9215-cde6071d41ae"
   },
   "outputs": [
    {
     "data": {
      "text/plain": [
       "(614, 14)"
      ]
     },
     "execution_count": 20,
     "metadata": {
      "tags": []
     },
     "output_type": "execute_result"
    }
   ],
   "source": [
    "df_final.shape"
   ]
  },
  {
   "cell_type": "code",
   "execution_count": null,
   "metadata": {
    "colab": {
     "base_uri": "https://localhost:8080/",
     "height": 72
    },
    "colab_type": "code",
    "id": "Sb34t66JdNKT",
    "outputId": "46e83dfd-6c9b-4fde-9552-8f65bdc63ac5"
   },
   "outputs": [
    {
     "data": {
      "text/plain": [
       "1    422\n",
       "0    192\n",
       "Name: Loan_Status, dtype: int64"
      ]
     },
     "execution_count": 21,
     "metadata": {
      "tags": []
     },
     "output_type": "execute_result"
    }
   ],
   "source": [
    "df['Loan_Status'].value_counts()"
   ]
  },
  {
   "cell_type": "markdown",
   "metadata": {
    "colab_type": "text",
    "id": "6gif1zKxDZPq"
   },
   "source": [
    "### Model Creation\n"
   ]
  },
  {
   "cell_type": "markdown",
   "metadata": {
    "colab_type": "text",
    "id": "WL3cSNo0DZCS"
   },
   "source": [
    "### Spliting data into Training and Testing"
   ]
  },
  {
   "cell_type": "code",
   "execution_count": null,
   "metadata": {
    "colab": {},
    "colab_type": "code",
    "id": "E5cko44HAh17"
   },
   "outputs": [],
   "source": [
    "from sklearn.model_selection import train_test_split \n",
    "X_train,X_test,y_train,y_test = train_test_split(df_final,df['Loan_Status'],test_size=0.2,random_state = 3)"
   ]
  },
  {
   "cell_type": "markdown",
   "metadata": {
    "colab_type": "text",
    "id": "HcKT2S4QbVxS"
   },
   "source": [
    "## Logistic Regression:"
   ]
  },
  {
   "cell_type": "code",
   "execution_count": null,
   "metadata": {
    "colab": {
     "base_uri": "https://localhost:8080/",
     "height": 109
    },
    "colab_type": "code",
    "id": "Eg-lRe4SbpqR",
    "outputId": "58da6865-9157-4aec-f521-b0bb5d471fba"
   },
   "outputs": [
    {
     "data": {
      "text/plain": [
       "LogisticRegression(C=1.0, class_weight=None, dual=False, fit_intercept=True,\n",
       "                   intercept_scaling=1, l1_ratio=None, max_iter=100,\n",
       "                   multi_class='auto', n_jobs=None, penalty='l2',\n",
       "                   random_state=None, solver='lbfgs', tol=0.0001, verbose=0,\n",
       "                   warm_start=False)"
      ]
     },
     "execution_count": 23,
     "metadata": {
      "tags": []
     },
     "output_type": "execute_result"
    }
   ],
   "source": [
    "from sklearn.linear_model import LogisticRegression #importing package\n",
    "\n",
    "log_clf = LogisticRegression()\n",
    "log_clf.fit(X_train,y_train) #fitting model with training data"
   ]
  },
  {
   "cell_type": "code",
   "execution_count": null,
   "metadata": {
    "colab": {
     "base_uri": "https://localhost:8080/",
     "height": 54
    },
    "colab_type": "code",
    "id": "OTFiEuyvfnkZ",
    "outputId": "d9fcc362-47d2-4122-9486-0e1fc2b706e5"
   },
   "outputs": [
    {
     "name": "stdout",
     "output_type": "stream",
     "text": [
      "Train F1 Score  0.8637602179836512\n",
      "Train Accuracy  0.7963340122199593\n"
     ]
    }
   ],
   "source": [
    "from sklearn.metrics import f1_score, accuracy_score #importing packages\n",
    "\n",
    "y_pred = log_clf.predict(X_train) #prediction with training model\n",
    "print(\"Train F1 Score \", f1_score(y_train,y_pred)) #calculating performance\n",
    "print(\"Train Accuracy \", accuracy_score(y_train,y_pred))"
   ]
  },
  {
   "cell_type": "code",
   "execution_count": null,
   "metadata": {
    "colab": {
     "base_uri": "https://localhost:8080/",
     "height": 54
    },
    "colab_type": "code",
    "id": "pjMJaOB-cE0E",
    "outputId": "9bacd8ba-4fc4-4697-c659-a21df2478c32"
   },
   "outputs": [
    {
     "name": "stdout",
     "output_type": "stream",
     "text": [
      "Accuracy score:  0.8617886178861789\n",
      "f1_score:  0.9162561576354681\n"
     ]
    }
   ],
   "source": [
    "y_pred = log_clf.predict(X_test) #prediction with testing data\n",
    "print(\"Accuracy score: \", accuracy_score(y_test,y_pred)) #calculating performance\n",
    "print(\"f1_score: \", f1_score(y_test,y_pred))"
   ]
  },
  {
   "cell_type": "code",
   "execution_count": null,
   "metadata": {
    "colab": {
     "base_uri": "https://localhost:8080/",
     "height": 299
    },
    "colab_type": "code",
    "id": "PD6Odzspcor5",
    "outputId": "51264032-d4e4-4a28-d7bf-977e687b76c8"
   },
   "outputs": [
    {
     "name": "stdout",
     "output_type": "stream",
     "text": [
      "Accuracy_score:  0.8617886178861789\n"
     ]
    },
    {
     "data": {
      "image/png": "[encoded data removed]",
      "text/plain": [
       "<Figure size 432x288 with 2 Axes>"
      ]
     },
     "metadata": {
      "needs_background": "light",
      "tags": []
     },
     "output_type": "display_data"
    }
   ],
   "source": [
    "from sklearn.metrics import confusion_matrix, accuracy_score\n",
    "conf = confusion_matrix(y_test, y_pred)\n",
    "\n",
    "plt.title(\"CONFUSION MATRIX: \") #plotting confusion matrix \n",
    "sns.heatmap(confusion_matrix(y_test, y_pred), annot=True, fmt='3.0f')\n",
    "\n",
    "TP = conf[1][1] #True Positive (TP) : Observation is positive, and is predicted to be positive.\n",
    "FN = conf[1][0] #False Negative (FN) : Observation is positive, but is predicted negative.\n",
    "TN = conf[0][0] #True Negative (TN) : Observation is negative, and is predicted to be negative.\n",
    "FP = conf[0][1] #False Positive (FP) : Observation is negative, but is predicSted positive.\n",
    "print(\"Accuracy_score: \", (TP + TN) / (TP + FP + FN + TN)) # Calculating accuracy using confusion matrix values"
   ]
  },
  {
   "cell_type": "markdown",
   "metadata": {
    "colab_type": "text",
    "id": "rR1Ju8vODmMz"
   },
   "source": [
    "## Decision Tree Classifier"
   ]
  },
  {
   "cell_type": "code",
   "execution_count": null,
   "metadata": {
    "colab": {
     "base_uri": "https://localhost:8080/",
     "height": 54
    },
    "colab_type": "code",
    "id": "nQAQ580ABNFz",
    "outputId": "75a6fba8-6aad-4c6e-8a1e-a190eb30ed6b"
   },
   "outputs": [
    {
     "name": "stdout",
     "output_type": "stream",
     "text": [
      "Training Data Set Accuracy:  1.0\n",
      "Training Data F1 Score  1.0\n"
     ]
    }
   ],
   "source": [
    "from sklearn.tree import DecisionTreeClassifier #importing packages\n",
    "\n",
    "tree_clf = DecisionTreeClassifier()\n",
    "tree_clf.fit(X_train,y_train) #fitting the model\n",
    "\n",
    "from sklearn.metrics import accuracy_score,f1_score\n",
    "y_pred = tree_clf.predict(X_train) # predicting with training dataset\n",
    "print(\"Training Data Set Accuracy: \", accuracy_score(y_train,y_pred))\n",
    "print(\"Training Data F1 Score \", f1_score(y_train,y_pred))"
   ]
  },
  {
   "cell_type": "code",
   "execution_count": null,
   "metadata": {
    "colab": {
     "base_uri": "https://localhost:8080/",
     "height": 219
    },
    "colab_type": "code",
    "id": "RcwLv3bhWBxH",
    "outputId": "f339cf64-49a2-4081-ce65-7feba92683a9"
   },
   "outputs": [
    {
     "name": "stdout",
     "output_type": "stream",
     "text": [
      "Training Data Set Accuracy:  0.6666666666666666\n",
      "Training Data F1 Score  0.768361581920904\n",
      "              precision    recall  f1-score   support\n",
      "\n",
      "           0       0.34      0.50      0.41        28\n",
      "           1       0.83      0.72      0.77        95\n",
      "\n",
      "    accuracy                           0.67       123\n",
      "   macro avg       0.59      0.61      0.59       123\n",
      "weighted avg       0.72      0.67      0.69       123\n",
      "\n"
     ]
    }
   ],
   "source": [
    "from sklearn.metrics import classification_report #importing packages\n",
    "\n",
    "y_test_pred = tree_clf.predict(X_test) #prediction with testing data set\n",
    "print(\"Training Data Set Accuracy: \", accuracy_score(y_test,y_test_pred)) #calculating performance\n",
    "print(\"Training Data F1 Score \", f1_score(y_test,y_test_pred))\n",
    "print(classification_report(y_test,y_test_pred))"
   ]
  },
  {
   "cell_type": "markdown",
   "metadata": {
    "colab_type": "text",
    "id": "9Qv2HZ4YDtG_"
   },
   "source": [
    "## HyperParameter Tuning For Decision Tree over (max Depth and min Samples leaf)"
   ]
  },
  {
   "cell_type": "code",
   "execution_count": null,
   "metadata": {
    "colab": {
     "base_uri": "https://localhost:8080/",
     "height": 439
    },
    "colab_type": "code",
    "id": "tCRXMFQtCOJ6",
    "outputId": "c19aa271-451c-43cb-df76-04662f605573"
   },
   "outputs": [
    {
     "name": "stdout",
     "output_type": "stream",
     "text": [
      "Fitting 10 folds for each of 10 candidates, totalling 100 fits\n"
     ]
    },
    {
     "name": "stderr",
     "output_type": "stream",
     "text": [
      "[Parallel(n_jobs=50)]: Using backend LokyBackend with 50 concurrent workers.\n",
      "[Parallel(n_jobs=50)]: Done 100 out of 100 | elapsed:   36.8s finished\n"
     ]
    },
    {
     "data": {
      "text/plain": [
       "RandomizedSearchCV(cv=10, error_score=nan,\n",
       "                   estimator=DecisionTreeClassifier(ccp_alpha=0.0,\n",
       "                                                    class_weight=None,\n",
       "                                                    criterion='gini',\n",
       "                                                    max_depth=None,\n",
       "                                                    max_features=None,\n",
       "                                                    max_leaf_nodes=None,\n",
       "                                                    min_impurity_decrease=0.0,\n",
       "                                                    min_impurity_split=None,\n",
       "                                                    min_samples_leaf=1,\n",
       "                                                    min_samples_split=2,\n",
       "                                                    min_weight_fraction_leaf=0.0,\n",
       "                                                    presort='deprecated',\n",
       "                                                    random_state=None,\n",
       "                                                    splitter='best'),\n",
       "                   iid='deprecated', n_iter=10, n_jobs=50,\n",
       "                   param_distributions={'max_depth': range(2, 40),\n",
       "                                        'min_samples_leaf': range(1, 80, 3)},\n",
       "                   pre_dispatch='2*n_jobs', random_state=None, refit=True,\n",
       "                   return_train_score=False, scoring=None, verbose=1)"
      ]
     },
     "execution_count": 30,
     "metadata": {
      "tags": []
     },
     "output_type": "execute_result"
    }
   ],
   "source": [
    "grid_param = {\n",
    "    'max_depth' : range(2,40,1), # using max_depth and min_samples_leaf only for the best param calculating\n",
    "    'min_samples_leaf' : range(1,80,3)\n",
    "}         \n",
    "from sklearn.model_selection import RandomizedSearchCV #importing packages\n",
    "clf = DecisionTreeClassifier()\n",
    "grid_search1 = RandomizedSearchCV(estimator=clf, param_distributions=grid_param,cv=10,n_jobs=50,verbose=1) # cv = 10 to increase model performance n_jobs to make the process quick\n",
    "grid_search1.fit(X_train,y_train) #fitting the model"
   ]
  },
  {
   "cell_type": "code",
   "execution_count": null,
   "metadata": {
    "colab": {
     "base_uri": "https://localhost:8080/",
     "height": 35
    },
    "colab_type": "code",
    "id": "mpZ8F_xeC6aA",
    "outputId": "6bf93fb3-8a5f-431e-c61b-555efc31897d"
   },
   "outputs": [
    {
     "data": {
      "text/plain": [
       "{'max_depth': 7, 'min_samples_leaf': 58}"
      ]
     },
     "execution_count": 31,
     "metadata": {
      "tags": []
     },
     "output_type": "execute_result"
    }
   ],
   "source": [
    "grid_search1.best_params_ #viewing the best parameter values"
   ]
  },
  {
   "cell_type": "code",
   "execution_count": null,
   "metadata": {
    "colab": {
     "base_uri": "https://localhost:8080/",
     "height": 54
    },
    "colab_type": "code",
    "id": "6JCDLJneBnXh",
    "outputId": "7181a0d5-7d03-4a7e-89bb-b383f085149c"
   },
   "outputs": [
    {
     "name": "stdout",
     "output_type": "stream",
     "text": [
      "Test Accuracy:  0.8617886178861789\n",
      "Test F1 Score:  0.9170731707317074\n"
     ]
    }
   ],
   "source": [
    "from sklearn.metrics import confusion_matrix #importing packages\n",
    "tree_clf = DecisionTreeClassifier(max_depth=7,min_samples_leaf = 58) # creating model with best params\n",
    "\n",
    "tree_clf.fit(X_train,y_train) #fitting the model\n",
    "y_pred = tree_clf.predict(X_test) # testing with test data\n",
    "print(\"Test Accuracy: \",accuracy_score(y_test,y_pred)) #calculating performance\n",
    "print(\"Test F1 Score: \",f1_score(y_test,y_pred))"
   ]
  },
  {
   "cell_type": "markdown",
   "metadata": {
    "colab_type": "text",
    "id": "9bv1-OrYD86j"
   },
   "source": [
    "## Metics for final Decision Tree"
   ]
  },
  {
   "cell_type": "code",
   "execution_count": null,
   "metadata": {
    "colab": {
     "base_uri": "https://localhost:8080/",
     "height": 54
    },
    "colab_type": "code",
    "id": "Om73NCU9WjOf",
    "outputId": "a5a08aa5-dca9-46e1-eb7c-e46fccca4795"
   },
   "outputs": [
    {
     "data": {
      "text/plain": [
       "array([[12, 16],\n",
       "       [ 1, 94]])"
      ]
     },
     "execution_count": 34,
     "metadata": {
      "tags": []
     },
     "output_type": "execute_result"
    }
   ],
   "source": [
    "from sklearn.metrics import confusion_matrix #importing packages\n",
    "conf = confusion_matrix(y_test, y_pred) # confusion matrix for testing data\n",
    "conf #printing values"
   ]
  },
  {
   "cell_type": "code",
   "execution_count": null,
   "metadata": {
    "colab": {
     "base_uri": "https://localhost:8080/",
     "height": 299
    },
    "colab_type": "code",
    "id": "K2uY5wSIWi-1",
    "outputId": "2ce2c94d-9706-40b0-d8a2-f8d22808d1e9"
   },
   "outputs": [
    {
     "data": {
      "text/plain": [
       "<matplotlib.axes._subplots.AxesSubplot at 0x7fe55f70d828>"
      ]
     },
     "execution_count": 35,
     "metadata": {
      "tags": []
     },
     "output_type": "execute_result"
    },
    {
     "data": {
      "image/png": "[encoded data removed]",
      "text/plain": [
       "<Figure size 432x288 with 2 Axes>"
      ]
     },
     "metadata": {
      "needs_background": "light",
      "tags": []
     },
     "output_type": "display_data"
    }
   ],
   "source": [
    "plt.title(\"CONFUSION MATRIX: \") # plotting confusion matrix\n",
    "sns.heatmap(confusion_matrix(y_test, y_pred), annot=True, fmt='3.0f')"
   ]
  },
  {
   "cell_type": "code",
   "execution_count": null,
   "metadata": {
    "colab": {
     "base_uri": "https://localhost:8080/",
     "height": 35
    },
    "colab_type": "code",
    "id": "tLveWw2iWisC",
    "outputId": "59b8774d-ebcb-437c-d097-c7edfeb16c7f"
   },
   "outputs": [
    {
     "data": {
      "text/plain": [
       "0.8617886178861789"
      ]
     },
     "execution_count": 36,
     "metadata": {
      "tags": []
     },
     "output_type": "execute_result"
    }
   ],
   "source": [
    "TP = conf[1][1] #True Positive (TP) : Observation is positive, and is predicted to be positive.\n",
    "FN = conf[1][0] #False Negative (FN) : Observation is positive, but is predicted negative.\n",
    "TN = conf[0][0] #True Negative (TN) : Observation is negative, and is predicted to be negative.\n",
    "FP = conf[0][1] #False Positive (FP) : Observation is negative, but is predicted positive.\n",
    "(TP + TN) / (TP + FP + FN + TN) # Calculating accuracy using confusion matrix values"
   ]
  },
  {
   "cell_type": "markdown",
   "metadata": {
    "colab_type": "text",
    "id": "TXHt3c-FEE5e"
   },
   "source": [
    "## Random Forest Classifier"
   ]
  },
  {
   "cell_type": "code",
   "execution_count": null,
   "metadata": {
    "colab": {
     "base_uri": "https://localhost:8080/",
     "height": 54
    },
    "colab_type": "code",
    "id": "90oORu7wB_qd",
    "outputId": "7c857c08-7690-49b9-e2ad-a0bd16ff5be3"
   },
   "outputs": [
    {
     "name": "stdout",
     "output_type": "stream",
     "text": [
      "Train F1 Score  1.0\n",
      "Train Accuracy  1.0\n"
     ]
    }
   ],
   "source": [
    "from sklearn.ensemble import RandomForestClassifier #importing packages\n",
    "\n",
    "rf_clf = RandomForestClassifier()\n",
    "rf_clf.fit(X_train,y_train) #fitting the model with training data\n",
    "\n",
    "y_pred = rf_clf.predict(X_train) #predicting with training data\n",
    "print(\"Train F1 Score \", f1_score(y_train,y_pred)) #calculating performance\n",
    "print(\"Train Accuracy \", accuracy_score(y_train,y_pred))"
   ]
  },
  {
   "cell_type": "code",
   "execution_count": null,
   "metadata": {
    "colab": {
     "base_uri": "https://localhost:8080/",
     "height": 54
    },
    "colab_type": "code",
    "id": "eIwe_nbEEWOh",
    "outputId": "805cc418-22a4-46e0-af10-cb432987cb19"
   },
   "outputs": [
    {
     "name": "stdout",
     "output_type": "stream",
     "text": [
      "Test Accuracy:  0.8373983739837398\n",
      "Test F1 Score:  0.9\n"
     ]
    }
   ],
   "source": [
    "y_pred = rf_clf.predict(X_test) #predicting with testing data\n",
    "print(\"Test Accuracy: \",accuracy_score(y_test,y_pred)) #calculating performance\n",
    "print(\"Test F1 Score: \",f1_score(y_test,y_pred))"
   ]
  },
  {
   "cell_type": "markdown",
   "metadata": {
    "colab_type": "text",
    "id": "ALjpAf4hEI_C"
   },
   "source": [
    "## Hyper parameter Tuning of Random Forest classifier (criterion, n_estimators,max_depth,min_smaples_leaf)"
   ]
  },
  {
   "cell_type": "code",
   "execution_count": null,
   "metadata": {
    "colab": {
     "base_uri": "https://localhost:8080/",
     "height": 513
    },
    "colab_type": "code",
    "id": "tp29dKDQWF36",
    "outputId": "50ba7395-d31e-4808-bea9-99566c8fed8f"
   },
   "outputs": [
    {
     "data": {
      "text/plain": [
       "RandomizedSearchCV(cv=None, error_score=nan,\n",
       "                   estimator=RandomForestClassifier(bootstrap=True,\n",
       "                                                    ccp_alpha=0.0,\n",
       "                                                    class_weight=None,\n",
       "                                                    criterion='gini',\n",
       "                                                    max_depth=None,\n",
       "                                                    max_features='auto',\n",
       "                                                    max_leaf_nodes=None,\n",
       "                                                    max_samples=None,\n",
       "                                                    min_impurity_decrease=0.0,\n",
       "                                                    min_impurity_split=None,\n",
       "                                                    min_samples_leaf=1,\n",
       "                                                    min_samples_split=2,\n",
       "                                                    min_weight_fraction_leaf=0.0,\n",
       "                                                    n_estimators=100,\n",
       "                                                    n_jobs=None,\n",
       "                                                    oob_score=False,\n",
       "                                                    random_state=None,\n",
       "                                                    verbose=0,\n",
       "                                                    warm_start=False),\n",
       "                   iid='deprecated', n_iter=10, n_jobs=None,\n",
       "                   param_distributions={'criterion': ['gini', 'entropy'],\n",
       "                                        'max_depth': range(1, 100),\n",
       "                                        'min_samples_leaf': range(1, 10),\n",
       "                                        'n_estimators': range(1, 300, 10)},\n",
       "                   pre_dispatch='2*n_jobs', random_state=None, refit=True,\n",
       "                   return_train_score=False, scoring=None, verbose=0)"
      ]
     },
     "execution_count": 39,
     "metadata": {
      "tags": []
     },
     "output_type": "execute_result"
    }
   ],
   "source": [
    "grid_param = {\n",
    "    'criterion': ['gini', 'entropy'], #considering 4 different parameters\n",
    "    'n_estimators': range(1,300,10),\n",
    "    'max_depth' : range(1,100,1),\n",
    "    'min_samples_leaf' : range(1,10,1),\n",
    "    \n",
    "}   \n",
    "\n",
    "clf = RandomForestClassifier() #creating model\n",
    "grid_search = RandomizedSearchCV(estimator=clf,param_distributions=grid_param)\n",
    "grid_search.fit(X_train,y_train) #fitting model with training data"
   ]
  },
  {
   "cell_type": "code",
   "execution_count": null,
   "metadata": {
    "colab": {
     "base_uri": "https://localhost:8080/",
     "height": 90
    },
    "colab_type": "code",
    "id": "NRkNXO2XWkBX",
    "outputId": "15069a3a-8471-402e-ddcf-1a8b2451c0f2"
   },
   "outputs": [
    {
     "data": {
      "text/plain": [
       "{'criterion': 'gini',\n",
       " 'max_depth': 42,\n",
       " 'min_samples_leaf': 7,\n",
       " 'n_estimators': 81}"
      ]
     },
     "execution_count": 40,
     "metadata": {
      "tags": []
     },
     "output_type": "execute_result"
    }
   ],
   "source": [
    "grid_search.best_params_ #viewing best values for the given parameters"
   ]
  },
  {
   "cell_type": "code",
   "execution_count": null,
   "metadata": {
    "colab": {
     "base_uri": "https://localhost:8080/",
     "height": 54
    },
    "colab_type": "code",
    "id": "e8KKicuJWj38",
    "outputId": "c9b3e5c8-ddb8-4863-d144-83d29bffce36"
   },
   "outputs": [
    {
     "name": "stdout",
     "output_type": "stream",
     "text": [
      "accuracy_score:  0.8617886178861789\n",
      "f1_score:  0.9170731707317074\n"
     ]
    }
   ],
   "source": [
    "clf = RandomForestClassifier(criterion= 'gini', max_depth= 42, min_samples_leaf=7, n_estimators=81) #creating model with best params\n",
    "\n",
    "clf.fit(X_train,y_train) #fitting the model with training data\n",
    "y_test_pred = clf.predict(X_test) #predicting with testing data\n",
    " \n",
    "print(\"accuracy_score: \", accuracy_score(y_test,y_test_pred)) #calculating performance\n",
    "print(\"f1_score: \", f1_score(y_test,y_test_pred))"
   ]
  },
  {
   "cell_type": "markdown",
   "metadata": {
    "colab_type": "text",
    "id": "11qB3BUkEgEH"
   },
   "source": [
    "## Metrics for Final Random Forest classifiers"
   ]
  },
  {
   "cell_type": "code",
   "execution_count": null,
   "metadata": {
    "colab": {
     "base_uri": "https://localhost:8080/",
     "height": 299
    },
    "colab_type": "code",
    "id": "JjXH4ofxbmHT",
    "outputId": "ccbf204a-cae5-4c31-d819-862c21ef7cdd"
   },
   "outputs": [
    {
     "name": "stdout",
     "output_type": "stream",
     "text": [
      "Accuracy_score:  0.8617886178861789\n"
     ]
    },
    {
     "data": {
      "image/png": "[encoded data removed]",
      "text/plain": [
       "<Figure size 432x288 with 2 Axes>"
      ]
     },
     "metadata": {
      "needs_background": "light",
      "tags": []
     },
     "output_type": "display_data"
    }
   ],
   "source": [
    "from sklearn.metrics import confusion_matrix, accuracy_score #importing packages\n",
    "conf = confusion_matrix(y_test, y_test_pred) #finding confusion matrix\n",
    "\n",
    "plt.title(\"CONFUSION MATRIX: \") #plotting confusion matrix\n",
    "sns.heatmap(confusion_matrix(y_test, y_test_pred), annot=True, fmt='3.0f')\n",
    "\n",
    "TP = conf[1][1] #True Positive (TP) : Observation is positive, and is predicted to be positive.\n",
    "FN = conf[1][0] #False Negative (FN) : Observation is positive, but is predicted negative.\n",
    "TN = conf[0][0] #True Negative (TN) : Observation is negative, and is predicted to be negative.\n",
    "FP = conf[0][1] #False Positive (FP) : Observation is negative, but is predicted positive.\n",
    "print(\"Accuracy_score: \", (TP + TN) / (TP + FP + FN + TN)) # Calculating accuracy using confusion matrix values"
   ]
  },
  {
   "cell_type": "markdown",
   "metadata": {
    "colab_type": "text",
    "id": "t9eWYRgZEp8C"
   },
   "source": [
    "## Boosting( Xtreme Gradient Boosting) XGboost"
   ]
  },
  {
   "cell_type": "code",
   "execution_count": null,
   "metadata": {
    "colab": {},
    "colab_type": "code",
    "id": "FjMHw47RMJaw"
   },
   "outputs": [],
   "source": [
    "parms = {\"learning_rate\"    : [0.05, 0.10, 0.15, 0.20, 0.25, 0.30,0.35,0.40,0.01,0.001 ] , #set of parameters to consider for the model\n",
    " \"max_depth\"        : range(1,500,2),\n",
    " \"min_child_weight\" : range(1,500,3),\n",
    " \"gamma\"            : range(1,500,5),\n",
    " \"colsample_bytree\" : [0.01,0.02,0.03,0.1,0.2,0.3,0.6,0.7] }"
   ]
  },
  {
   "cell_type": "code",
   "execution_count": null,
   "metadata": {
    "colab": {
     "base_uri": "https://localhost:8080/",
     "height": 458
    },
    "colab_type": "code",
    "id": "ZRVSaVfOFYhn",
    "outputId": "4ef3d437-8aa0-4249-8e61-29afad5e566d"
   },
   "outputs": [
    {
     "data": {
      "text/plain": [
       "RandomizedSearchCV(cv=5, error_score=nan,\n",
       "                   estimator=XGBClassifier(base_score=0.5, booster='gbtree',\n",
       "                                           colsample_bylevel=1,\n",
       "                                           colsample_bynode=1,\n",
       "                                           colsample_bytree=1, gamma=0,\n",
       "                                           learning_rate=0.1, max_delta_step=0,\n",
       "                                           max_depth=3, min_child_weight=1,\n",
       "                                           missing=None, n_estimators=100,\n",
       "                                           n_jobs=1, nthread=None,\n",
       "                                           objective='binary:logistic',\n",
       "                                           random_state=0, reg_alpha=0,\n",
       "                                           reg_lambda=1, sc...\n",
       "                   iid='deprecated', n_iter=10, n_jobs=None,\n",
       "                   param_distributions={'colsample_bytree': [0.01, 0.02, 0.03,\n",
       "                                                             0.1, 0.2, 0.3, 0.6,\n",
       "                                                             0.7],\n",
       "                                        'gamma': range(1, 500, 5),\n",
       "                                        'learning_rate': [0.05, 0.1, 0.15, 0.2,\n",
       "                                                          0.25, 0.3, 0.35, 0.4,\n",
       "                                                          0.01, 0.001],\n",
       "                                        'max_depth': range(1, 500, 2),\n",
       "                                        'min_child_weight': range(1, 500, 3)},\n",
       "                   pre_dispatch='2*n_jobs', random_state=None, refit=True,\n",
       "                   return_train_score=False, scoring=None, verbose=0)"
      ]
     },
     "execution_count": 44,
     "metadata": {
      "tags": []
     },
     "output_type": "execute_result"
    }
   ],
   "source": [
    "from sklearn.model_selection import RandomizedSearchCV #importing packages\n",
    "import xgboost as xgb\n",
    "\n",
    "bst = xgb.XGBClassifier() \n",
    "key = RandomizedSearchCV(estimator=bst,param_distributions=parms,cv=5)\n",
    "key.fit(X_train,y_train) #fitting the model"
   ]
  },
  {
   "cell_type": "code",
   "execution_count": null,
   "metadata": {
    "colab": {
     "base_uri": "https://localhost:8080/",
     "height": 54
    },
    "colab_type": "code",
    "id": "CPdi7hr1mMhM",
    "outputId": "0746f21a-5a19-4a7b-e202-3eff2c45134b"
   },
   "outputs": [
    {
     "name": "stdout",
     "output_type": "stream",
     "text": [
      "accuracy_score:  0.6659877800407332\n",
      "f1_score:  0.7995110024449877\n"
     ]
    }
   ],
   "source": [
    "y_train_pred = key.predict(X_train) #predicting with training data\n",
    "\n",
    "print(\"accuracy_score: \",accuracy_score(y_train,y_train_pred)) #calculating performance\n",
    "print(\"f1_score: \",f1_score(y_train,y_train_pred))"
   ]
  },
  {
   "cell_type": "code",
   "execution_count": null,
   "metadata": {
    "colab": {
     "base_uri": "https://localhost:8080/",
     "height": 54
    },
    "colab_type": "code",
    "id": "tNAIJPz-McyV",
    "outputId": "15a086bd-7900-4805-9cb1-4ef829715fbf"
   },
   "outputs": [
    {
     "name": "stdout",
     "output_type": "stream",
     "text": [
      "accuracy_score:  0.7723577235772358\n",
      "f1_score:  0.8715596330275228\n"
     ]
    }
   ],
   "source": [
    "y_test_pred = key.predict(X_test) #predicting with testing data\n",
    "\n",
    "print(\"accuracy_score: \",accuracy_score(y_test,y_test_pred)) #calculating performance\n",
    "print(\"f1_score: \",f1_score(y_test,y_test_pred))"
   ]
  },
  {
   "cell_type": "code",
   "execution_count": null,
   "metadata": {
    "colab": {
     "base_uri": "https://localhost:8080/",
     "height": 146
    },
    "colab_type": "code",
    "id": "CiYWj0PlNZBp",
    "outputId": "c7de7a27-9b73-490b-d018-67114f7c1390"
   },
   "outputs": [
    {
     "data": {
      "text/plain": [
       "XGBClassifier(base_score=0.5, booster='gbtree', colsample_bylevel=1,\n",
       "              colsample_bynode=1, colsample_bytree=1, gamma=0,\n",
       "              learning_rate=0.1, max_delta_step=0, max_depth=3,\n",
       "              min_child_weight=1, missing=None, n_estimators=100, n_jobs=1,\n",
       "              nthread=None, objective='binary:logistic', random_state=0,\n",
       "              reg_alpha=0, reg_lambda=1, scale_pos_weight=1, seed=None,\n",
       "              silent=None, subsample=1, verbosity=1)"
      ]
     },
     "execution_count": 47,
     "metadata": {
      "tags": []
     },
     "output_type": "execute_result"
    }
   ],
   "source": [
    "xg = xgb.XGBClassifier() \n",
    "xg.fit(X_train,y_train) #fitted model with best parameters again"
   ]
  },
  {
   "cell_type": "code",
   "execution_count": null,
   "metadata": {
    "colab": {
     "base_uri": "https://localhost:8080/",
     "height": 54
    },
    "colab_type": "code",
    "id": "zhi0FjsZViLA",
    "outputId": "a8411e72-5590-4759-a28b-704822d2ed35"
   },
   "outputs": [
    {
     "name": "stdout",
     "output_type": "stream",
     "text": [
      "Accuracy score:  0.8455284552845529\n",
      "f1_score:  0.9064039408866994\n"
     ]
    }
   ],
   "source": [
    "y_pred = xg.predict(X_test) #predicting with test data\n",
    "\n",
    "print(\"Accuracy score: \", accuracy_score(y_test,y_pred)) #calculating performance\n",
    "print(\"f1_score: \", f1_score(y_test,y_pred))"
   ]
  },
  {
   "cell_type": "code",
   "execution_count": null,
   "metadata": {
    "colab": {
     "base_uri": "https://localhost:8080/",
     "height": 299
    },
    "colab_type": "code",
    "id": "UeJT4FHcjFvy",
    "outputId": "f8c215f1-3e03-478c-90fb-1a38ee03179c"
   },
   "outputs": [
    {
     "name": "stdout",
     "output_type": "stream",
     "text": [
      "Accuracy_score:  0.8455284552845529\n"
     ]
    },
    {
     "data": {
      "image/png": "[encoded data removed]",
      "text/plain": [
       "<Figure size 432x288 with 2 Axes>"
      ]
     },
     "metadata": {
      "needs_background": "light",
      "tags": []
     },
     "output_type": "display_data"
    }
   ],
   "source": [
    "from sklearn.metrics import confusion_matrix, accuracy_score #importing packages\n",
    "conf = confusion_matrix(y_test, y_pred)\n",
    "\n",
    "plt.title(\"CONFUSION MATRIX: \")\n",
    "sns.heatmap(confusion_matrix(y_test, y_pred), annot=True, fmt='3.0f') #printing confusion matrix\n",
    "\n",
    "TP = conf[1][1] #True Positive (TP) : Observation is positive, and is predicted to be positive.\n",
    "FN = conf[1][0] #False Negative (FN) : Observation is positive, but is predicted negative.\n",
    "TN = conf[0][0] #True Negative (TN) : Observation is negative, and is predicted to be negative.\n",
    "FP = conf[0][1] #False Positive (FP) : Observation is negative, but is predicSted positive.\n",
    "print(\"Accuracy_score: \", (TP + TN) / (TP + FP + FN + TN)) # Calculating accuracy using confusion matrix values"
   ]
  },
  {
   "cell_type": "markdown",
   "metadata": {
    "colab_type": "text",
    "id": "HwxslZ3ty6Dz"
   },
   "source": [
    "Models used vs their accuracy values:\n",
    "\n",
    "LOGISTIC REGRESSION :- 86.1788%\n",
    "\n",
    "FINAL DECISION TREE CLASSIFIER MODEL:-86.1788%\n",
    "\n",
    "FINAL RANDOM FOREST CLASSIFIER MODEL:- 86.1788%\n",
    "\n",
    "XGBoost:- 84.5528%"
   ]
  },
  {
   "cell_type": "code",
   "execution_count": null,
   "metadata": {
    "colab": {},
    "colab_type": "code",
    "id": "KegAJquozyuf"
   },
   "outputs": [],
   "source": []
  }
 ],
 "metadata": {
  "colab": {
   "collapsed_sections": [],
   "name": "Project",
   "provenance": []
  },
  "kernelspec": {
   "display_name": "Python 3",
   "language": "python",
   "name": "python3"
  },
  "language_info": {
   "codemirror_mode": {
    "name": "ipython",
    "version": 3
   },
   "file_extension": ".py",
   "mimetype": "text/x-python",
   "name": "python",
   "nbconvert_exporter": "python",
   "pygments_lexer": "ipython3",
   "version": "3.7.6"
  }
 },
 "nbformat": 4,
 "nbformat_minor": 1
}
